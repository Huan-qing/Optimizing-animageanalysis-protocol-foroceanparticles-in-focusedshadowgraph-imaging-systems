{
 "cells": [
  {
   "cell_type": "markdown",
   "metadata": {},
   "source": [
    "# [Deep Learning for Vision Systems](https://www.manning.com/books/deep-learning-for-vision-systems?a_aid=compvisionbookcom&a_bid=90abff15) Book\n",
    "\n",
    "\n",
    "## Chapter 6 Project: Transfer learning exercise\n",
    "\n",
    "---\n",
    "### 1. Import the libraries that we need\n"
   ]
  },
  {
   "cell_type": "code",
   "execution_count": 1,
   "metadata": {},
   "outputs": [
    {
     "name": "stderr",
     "output_type": "stream",
     "text": [
      "Using TensorFlow backend.\n"
     ]
    }
   ],
   "source": [
    "from keras.preprocessing.image import ImageDataGenerator\n",
    "from keras.preprocessing import image\n",
    "from keras.applications import imagenet_utils\n",
    "from keras.applications import vgg16\n",
    "from keras.applications import mobilenet\n",
    "from keras.optimizers import Adam, SGD\n",
    "from keras.metrics import categorical_crossentropy\n",
    "from keras.callbacks import ModelCheckpoint\n",
    "from keras.models import Sequential, load_model\n",
    "\n",
    "from sklearn.metrics import confusion_matrix\n",
    "import itertools\n",
    "import matplotlib.pyplot as plt\n",
    "import numpy as np\n",
    "%matplotlib inline"
   ]
  },
  {
   "cell_type": "markdown",
   "metadata": {},
   "source": [
    "### 2. Data preparation"
   ]
  },
  {
   "cell_type": "code",
   "execution_count": 2,
   "metadata": {},
   "outputs": [],
   "source": [
    "train_path  = 'data/train'\n",
    "valid_path  = 'data/valid'\n",
    "test_path  = 'data/test'\n",
    "N=50 # epoch number"
   ]
  },
  {
   "cell_type": "code",
   "execution_count": 3,
   "metadata": {},
   "outputs": [
    {
     "name": "stderr",
     "output_type": "stream",
     "text": [
      "/opt/conda/lib/python3.7/site-packages/keras_preprocessing/image/utils.py:173: UserWarning: Using \".tiff\" files with multiple bands will cause distortion. Please verify your output.\n",
      "  warnings.warn('Using \".tiff\" files with multiple bands '\n"
     ]
    },
    {
     "name": "stdout",
     "output_type": "stream",
     "text": [
      "Found 416 images belonging to 2 classes.\n",
      "Found 60 images belonging to 2 classes.\n",
      "Found 118 images belonging to 2 classes.\n"
     ]
    }
   ],
   "source": [
    "train_batches = ImageDataGenerator(preprocessing_function=vgg16.preprocess_input).flow_from_directory(\n",
    "    train_path, target_size=(1280,960), batch_size=20)\n",
    "valid_batches = ImageDataGenerator(preprocessing_function=vgg16.preprocess_input).flow_from_directory(\n",
    "    valid_path, target_size=(1280,960), batch_size=20)\n",
    "test_batches = ImageDataGenerator(preprocessing_function=vgg16.preprocess_input).flow_from_directory(\n",
    "    test_path, target_size=(1280,960), batch_size=20)"
   ]
  },
  {
   "cell_type": "markdown",
   "metadata": {},
   "source": [
    "### 3. Download VGGNet and create our new network\n",
    "\n"
   ]
  },
  {
   "cell_type": "code",
   "execution_count": 4,
   "metadata": {},
   "outputs": [
    {
     "name": "stdout",
     "output_type": "stream",
     "text": [
      "Model: \"vgg16\"\n",
      "_________________________________________________________________\n",
      "Layer (type)                 Output Shape              Param #   \n",
      "=================================================================\n",
      "input_1 (InputLayer)         (None, 1280, 960, 3)      0         \n",
      "_________________________________________________________________\n",
      "block1_conv1 (Conv2D)        (None, 1280, 960, 64)     1792      \n",
      "_________________________________________________________________\n",
      "block1_conv2 (Conv2D)        (None, 1280, 960, 64)     36928     \n",
      "_________________________________________________________________\n",
      "block1_pool (MaxPooling2D)   (None, 640, 480, 64)      0         \n",
      "_________________________________________________________________\n",
      "block2_conv1 (Conv2D)        (None, 640, 480, 128)     73856     \n",
      "_________________________________________________________________\n",
      "block2_conv2 (Conv2D)        (None, 640, 480, 128)     147584    \n",
      "_________________________________________________________________\n",
      "block2_pool (MaxPooling2D)   (None, 320, 240, 128)     0         \n",
      "_________________________________________________________________\n",
      "block3_conv1 (Conv2D)        (None, 320, 240, 256)     295168    \n",
      "_________________________________________________________________\n",
      "block3_conv2 (Conv2D)        (None, 320, 240, 256)     590080    \n",
      "_________________________________________________________________\n",
      "block3_conv3 (Conv2D)        (None, 320, 240, 256)     590080    \n",
      "_________________________________________________________________\n",
      "block3_pool (MaxPooling2D)   (None, 160, 120, 256)     0         \n",
      "_________________________________________________________________\n",
      "block4_conv1 (Conv2D)        (None, 160, 120, 512)     1180160   \n",
      "_________________________________________________________________\n",
      "block4_conv2 (Conv2D)        (None, 160, 120, 512)     2359808   \n",
      "_________________________________________________________________\n",
      "block4_conv3 (Conv2D)        (None, 160, 120, 512)     2359808   \n",
      "_________________________________________________________________\n",
      "block4_pool (MaxPooling2D)   (None, 80, 60, 512)       0         \n",
      "_________________________________________________________________\n",
      "block5_conv1 (Conv2D)        (None, 80, 60, 512)       2359808   \n",
      "_________________________________________________________________\n",
      "block5_conv2 (Conv2D)        (None, 80, 60, 512)       2359808   \n",
      "_________________________________________________________________\n",
      "block5_conv3 (Conv2D)        (None, 80, 60, 512)       2359808   \n",
      "_________________________________________________________________\n",
      "block5_pool (MaxPooling2D)   (None, 40, 30, 512)       0         \n",
      "=================================================================\n",
      "Total params: 14,714,688\n",
      "Trainable params: 14,714,688\n",
      "Non-trainable params: 0\n",
      "_________________________________________________________________\n"
     ]
    }
   ],
   "source": [
    "base_model = vgg16.VGG16(weights = \"imagenet\", include_top=False, input_shape = (1280,960,3))\n",
    "base_model.summary()"
   ]
  },
  {
   "cell_type": "code",
   "execution_count": 5,
   "metadata": {},
   "outputs": [
    {
     "name": "stdout",
     "output_type": "stream",
     "text": [
      "Model: \"vgg16\"\n",
      "_________________________________________________________________\n",
      "Layer (type)                 Output Shape              Param #   \n",
      "=================================================================\n",
      "input_1 (InputLayer)         (None, 1280, 960, 3)      0         \n",
      "_________________________________________________________________\n",
      "block1_conv1 (Conv2D)        (None, 1280, 960, 64)     1792      \n",
      "_________________________________________________________________\n",
      "block1_conv2 (Conv2D)        (None, 1280, 960, 64)     36928     \n",
      "_________________________________________________________________\n",
      "block1_pool (MaxPooling2D)   (None, 640, 480, 64)      0         \n",
      "_________________________________________________________________\n",
      "block2_conv1 (Conv2D)        (None, 640, 480, 128)     73856     \n",
      "_________________________________________________________________\n",
      "block2_conv2 (Conv2D)        (None, 640, 480, 128)     147584    \n",
      "_________________________________________________________________\n",
      "block2_pool (MaxPooling2D)   (None, 320, 240, 128)     0         \n",
      "_________________________________________________________________\n",
      "block3_conv1 (Conv2D)        (None, 320, 240, 256)     295168    \n",
      "_________________________________________________________________\n",
      "block3_conv2 (Conv2D)        (None, 320, 240, 256)     590080    \n",
      "_________________________________________________________________\n",
      "block3_conv3 (Conv2D)        (None, 320, 240, 256)     590080    \n",
      "_________________________________________________________________\n",
      "block3_pool (MaxPooling2D)   (None, 160, 120, 256)     0         \n",
      "_________________________________________________________________\n",
      "block4_conv1 (Conv2D)        (None, 160, 120, 512)     1180160   \n",
      "_________________________________________________________________\n",
      "block4_conv2 (Conv2D)        (None, 160, 120, 512)     2359808   \n",
      "_________________________________________________________________\n",
      "block4_conv3 (Conv2D)        (None, 160, 120, 512)     2359808   \n",
      "_________________________________________________________________\n",
      "block4_pool (MaxPooling2D)   (None, 80, 60, 512)       0         \n",
      "_________________________________________________________________\n",
      "block5_conv1 (Conv2D)        (None, 80, 60, 512)       2359808   \n",
      "_________________________________________________________________\n",
      "block5_conv2 (Conv2D)        (None, 80, 60, 512)       2359808   \n",
      "_________________________________________________________________\n",
      "block5_conv3 (Conv2D)        (None, 80, 60, 512)       2359808   \n",
      "_________________________________________________________________\n",
      "block5_pool (MaxPooling2D)   (None, 40, 30, 512)       0         \n",
      "=================================================================\n",
      "Total params: 14,714,688\n",
      "Trainable params: 0\n",
      "Non-trainable params: 14,714,688\n",
      "_________________________________________________________________\n"
     ]
    }
   ],
   "source": [
    "# iterate through its layers and lock them to make them not trainable with this code\n",
    "for layer in base_model.layers:\n",
    "    layer.trainable = False\n",
    "\n",
    "base_model.summary()"
   ]
  },
  {
   "cell_type": "code",
   "execution_count": 6,
   "metadata": {},
   "outputs": [
    {
     "name": "stdout",
     "output_type": "stream",
     "text": [
      "Model: \"model_1\"\n",
      "_________________________________________________________________\n",
      "Layer (type)                 Output Shape              Param #   \n",
      "=================================================================\n",
      "input_1 (InputLayer)         (None, 1280, 960, 3)      0         \n",
      "_________________________________________________________________\n",
      "block1_conv1 (Conv2D)        (None, 1280, 960, 64)     1792      \n",
      "_________________________________________________________________\n",
      "block1_conv2 (Conv2D)        (None, 1280, 960, 64)     36928     \n",
      "_________________________________________________________________\n",
      "block1_pool (MaxPooling2D)   (None, 640, 480, 64)      0         \n",
      "_________________________________________________________________\n",
      "block2_conv1 (Conv2D)        (None, 640, 480, 128)     73856     \n",
      "_________________________________________________________________\n",
      "block2_conv2 (Conv2D)        (None, 640, 480, 128)     147584    \n",
      "_________________________________________________________________\n",
      "block2_pool (MaxPooling2D)   (None, 320, 240, 128)     0         \n",
      "_________________________________________________________________\n",
      "block3_conv1 (Conv2D)        (None, 320, 240, 256)     295168    \n",
      "_________________________________________________________________\n",
      "block3_conv2 (Conv2D)        (None, 320, 240, 256)     590080    \n",
      "_________________________________________________________________\n",
      "block3_conv3 (Conv2D)        (None, 320, 240, 256)     590080    \n",
      "_________________________________________________________________\n",
      "block3_pool (MaxPooling2D)   (None, 160, 120, 256)     0         \n",
      "_________________________________________________________________\n",
      "block4_conv1 (Conv2D)        (None, 160, 120, 512)     1180160   \n",
      "_________________________________________________________________\n",
      "block4_conv2 (Conv2D)        (None, 160, 120, 512)     2359808   \n",
      "_________________________________________________________________\n",
      "block4_conv3 (Conv2D)        (None, 160, 120, 512)     2359808   \n",
      "_________________________________________________________________\n",
      "block4_pool (MaxPooling2D)   (None, 80, 60, 512)       0         \n",
      "_________________________________________________________________\n",
      "block5_conv1 (Conv2D)        (None, 80, 60, 512)       2359808   \n",
      "_________________________________________________________________\n",
      "block5_conv2 (Conv2D)        (None, 80, 60, 512)       2359808   \n",
      "_________________________________________________________________\n",
      "block5_conv3 (Conv2D)        (None, 80, 60, 512)       2359808   \n",
      "_________________________________________________________________\n",
      "block5_pool (MaxPooling2D)   (None, 40, 30, 512)       0         \n",
      "_________________________________________________________________\n",
      "flatten_1 (Flatten)          (None, 614400)            0         \n",
      "_________________________________________________________________\n",
      "FC_2 (Dense)                 (None, 64)                39321664  \n",
      "_________________________________________________________________\n",
      "batch_normalization_1 (Batch (None, 64)                256       \n",
      "_________________________________________________________________\n",
      "dropout_1 (Dropout)          (None, 64)                0         \n",
      "_________________________________________________________________\n",
      "softmax (Dense)              (None, 2)                 130       \n",
      "=================================================================\n",
      "Total params: 54,036,738\n",
      "Trainable params: 39,321,922\n",
      "Non-trainable params: 14,714,816\n",
      "_________________________________________________________________\n"
     ]
    }
   ],
   "source": [
    "from keras.layers import Dense, Flatten, Dropout, BatchNormalization\n",
    "from keras.models import Model\n",
    "\n",
    "# use “get_layer” method to save the last layer of the network\n",
    "# save the output of the last layer to be the input of the next layer\n",
    "last_layer = base_model.get_layer('block5_pool')\n",
    "last_output = last_layer.output\n",
    "\n",
    "# flatten the classifier input which is output of the last layer of VGG16 model\n",
    "x = Flatten()(last_output)\n",
    "\n",
    "# add 2 FC layers, each has 4096 units and relu activation \n",
    "x = Dense(64, activation='relu', name='FC_2')(x)\n",
    "x = BatchNormalization()(x)\n",
    "x = Dropout(0.5)(x)\n",
    "# add our new softmax layer with 3 hidden units\n",
    "x = Dense(2, activation='softmax', name='softmax')(x)\n",
    "\n",
    "# instantiate a new_model using keras’s Model class\n",
    "new_model = Model(inputs=base_model.input, outputs=x)\n",
    "\n",
    "# print the new_model summary\n",
    "new_model.summary()\n"
   ]
  },
  {
   "cell_type": "code",
   "execution_count": 7,
   "metadata": {},
   "outputs": [],
   "source": [
    "new_model.compile(Adam(lr=0.00001), loss='categorical_crossentropy', metrics=['accuracy']) # lr = 0.00001"
   ]
  },
  {
   "cell_type": "code",
   "execution_count": 8,
   "metadata": {},
   "outputs": [],
   "source": [
    "# to save the model perform best at the epoch\n",
    "filepath = 'my_best_model.hdf5'\n",
    "checkpoint = ModelCheckpoint(filepath=filepath, \n",
    "                             monitor='val_loss',\n",
    "                             verbose=1, \n",
    "                             save_best_only=True,\n",
    "                             mode='min')\n",
    "callbacks = [checkpoint]"
   ]
  },
  {
   "cell_type": "code",
   "execution_count": 9,
   "metadata": {},
   "outputs": [
    {
     "name": "stdout",
     "output_type": "stream",
     "text": [
      "Epoch 1/50\n",
      " - 35s - loss: 0.9921 - accuracy: 0.5625 - val_loss: 3.5519 - val_accuracy: 0.5500\n",
      "\n",
      "Epoch 00001: val_loss improved from inf to 3.55191, saving model to my_best_model.hdf5\n",
      "Epoch 2/50\n",
      " - 10s - loss: 0.7120 - accuracy: 0.7125 - val_loss: 3.4673 - val_accuracy: 0.5250\n",
      "\n",
      "Epoch 00002: val_loss improved from 3.55191 to 3.46732, saving model to my_best_model.hdf5\n",
      "Epoch 3/50\n",
      " - 9s - loss: 0.4612 - accuracy: 0.7750 - val_loss: 1.0478 - val_accuracy: 0.6500\n",
      "\n",
      "Epoch 00003: val_loss improved from 3.46732 to 1.04782, saving model to my_best_model.hdf5\n",
      "Epoch 4/50\n",
      " - 8s - loss: 0.3569 - accuracy: 0.8500 - val_loss: 0.5399 - val_accuracy: 0.7750\n",
      "\n",
      "Epoch 00004: val_loss improved from 1.04782 to 0.53994, saving model to my_best_model.hdf5\n",
      "Epoch 5/50\n",
      " - 14s - loss: 0.3226 - accuracy: 0.8816 - val_loss: 0.5638 - val_accuracy: 0.8500\n",
      "\n",
      "Epoch 00005: val_loss did not improve from 0.53994\n",
      "Epoch 6/50\n",
      " - 9s - loss: 0.4627 - accuracy: 0.8500 - val_loss: 0.6251 - val_accuracy: 0.8250\n",
      "\n",
      "Epoch 00006: val_loss did not improve from 0.53994\n",
      "Epoch 7/50\n",
      " - 9s - loss: 0.3578 - accuracy: 0.8500 - val_loss: 0.6427 - val_accuracy: 0.8500\n",
      "\n",
      "Epoch 00007: val_loss did not improve from 0.53994\n",
      "Epoch 8/50\n",
      " - 8s - loss: 0.2899 - accuracy: 0.8421 - val_loss: 0.3046 - val_accuracy: 0.9250\n",
      "\n",
      "Epoch 00008: val_loss improved from 0.53994 to 0.30463, saving model to my_best_model.hdf5\n",
      "Epoch 9/50\n",
      " - 8s - loss: 0.2670 - accuracy: 0.9250 - val_loss: 0.3573 - val_accuracy: 0.8500\n",
      "\n",
      "Epoch 00009: val_loss did not improve from 0.30463\n",
      "Epoch 10/50\n",
      " - 8s - loss: 0.4192 - accuracy: 0.8500 - val_loss: 0.2739 - val_accuracy: 0.9250\n",
      "\n",
      "Epoch 00010: val_loss improved from 0.30463 to 0.27387, saving model to my_best_model.hdf5\n",
      "Epoch 11/50\n",
      " - 9s - loss: 0.1908 - accuracy: 0.9375 - val_loss: 0.2651 - val_accuracy: 0.9250\n",
      "\n",
      "Epoch 00011: val_loss improved from 0.27387 to 0.26506, saving model to my_best_model.hdf5\n",
      "Epoch 12/50\n",
      " - 8s - loss: 0.2175 - accuracy: 0.9125 - val_loss: 0.0134 - val_accuracy: 0.9500\n",
      "\n",
      "Epoch 00012: val_loss improved from 0.26506 to 0.01343, saving model to my_best_model.hdf5\n",
      "Epoch 13/50\n",
      " - 8s - loss: 0.2176 - accuracy: 0.8750 - val_loss: 0.0889 - val_accuracy: 0.9000\n",
      "\n",
      "Epoch 00013: val_loss did not improve from 0.01343\n",
      "Epoch 14/50\n",
      " - 8s - loss: 0.2041 - accuracy: 0.8816 - val_loss: 0.0809 - val_accuracy: 1.0000\n",
      "\n",
      "Epoch 00014: val_loss did not improve from 0.01343\n",
      "Epoch 15/50\n",
      " - 8s - loss: 0.1069 - accuracy: 0.9625 - val_loss: 0.2847 - val_accuracy: 0.9250\n",
      "\n",
      "Epoch 00015: val_loss did not improve from 0.01343\n",
      "Epoch 16/50\n",
      " - 8s - loss: 0.1049 - accuracy: 0.9625 - val_loss: 0.2400 - val_accuracy: 0.9000\n",
      "\n",
      "Epoch 00016: val_loss did not improve from 0.01343\n",
      "Epoch 17/50\n",
      " - 9s - loss: 0.1074 - accuracy: 0.9625 - val_loss: 0.0663 - val_accuracy: 1.0000\n",
      "\n",
      "Epoch 00017: val_loss did not improve from 0.01343\n",
      "Epoch 18/50\n",
      " - 8s - loss: 0.1274 - accuracy: 0.9750 - val_loss: 0.1562 - val_accuracy: 0.9500\n",
      "\n",
      "Epoch 00018: val_loss did not improve from 0.01343\n",
      "Epoch 19/50\n",
      " - 9s - loss: 0.0929 - accuracy: 0.9625 - val_loss: 0.1102 - val_accuracy: 1.0000\n",
      "\n",
      "Epoch 00019: val_loss did not improve from 0.01343\n",
      "Epoch 20/50\n",
      " - 9s - loss: 0.0524 - accuracy: 1.0000 - val_loss: 0.0627 - val_accuracy: 1.0000\n",
      "\n",
      "Epoch 00020: val_loss did not improve from 0.01343\n",
      "Epoch 21/50\n",
      " - 7s - loss: 0.1677 - accuracy: 0.9605 - val_loss: 0.1377 - val_accuracy: 0.9500\n",
      "\n",
      "Epoch 00021: val_loss did not improve from 0.01343\n",
      "Epoch 22/50\n",
      " - 9s - loss: 0.0476 - accuracy: 0.9750 - val_loss: 0.0781 - val_accuracy: 0.9500\n",
      "\n",
      "Epoch 00022: val_loss did not improve from 0.01343\n",
      "Epoch 23/50\n",
      " - 9s - loss: 0.0753 - accuracy: 0.9875 - val_loss: 0.1005 - val_accuracy: 0.9500\n",
      "\n",
      "Epoch 00023: val_loss did not improve from 0.01343\n",
      "Epoch 24/50\n",
      " - 8s - loss: 0.0573 - accuracy: 0.9875 - val_loss: 0.1101 - val_accuracy: 0.9750\n",
      "\n",
      "Epoch 00024: val_loss did not improve from 0.01343\n",
      "Epoch 25/50\n",
      " - 8s - loss: 0.0459 - accuracy: 1.0000 - val_loss: 0.1073 - val_accuracy: 0.9500\n",
      "\n",
      "Epoch 00025: val_loss did not improve from 0.01343\n",
      "Epoch 26/50\n",
      " - 8s - loss: 0.0751 - accuracy: 0.9875 - val_loss: 0.1225 - val_accuracy: 0.9750\n",
      "\n",
      "Epoch 00026: val_loss did not improve from 0.01343\n",
      "Epoch 27/50\n",
      " - 9s - loss: 0.1132 - accuracy: 0.9375 - val_loss: 0.0778 - val_accuracy: 0.9500\n",
      "\n",
      "Epoch 00027: val_loss did not improve from 0.01343\n",
      "Epoch 28/50\n",
      " - 9s - loss: 0.0676 - accuracy: 0.9875 - val_loss: 0.1066 - val_accuracy: 0.9500\n",
      "\n",
      "Epoch 00028: val_loss did not improve from 0.01343\n",
      "Epoch 29/50\n",
      " - 8s - loss: 0.0323 - accuracy: 0.9868 - val_loss: 0.1089 - val_accuracy: 1.0000\n",
      "\n",
      "Epoch 00029: val_loss did not improve from 0.01343\n",
      "Epoch 30/50\n",
      " - 8s - loss: 0.0649 - accuracy: 0.9875 - val_loss: 0.0269 - val_accuracy: 0.9750\n",
      "\n",
      "Epoch 00030: val_loss did not improve from 0.01343\n",
      "Epoch 31/50\n",
      " - 8s - loss: 0.0598 - accuracy: 0.9875 - val_loss: 0.0566 - val_accuracy: 1.0000\n",
      "\n",
      "Epoch 00031: val_loss did not improve from 0.01343\n",
      "Epoch 32/50\n",
      " - 9s - loss: 0.0284 - accuracy: 1.0000 - val_loss: 0.0754 - val_accuracy: 1.0000\n",
      "\n",
      "Epoch 00032: val_loss did not improve from 0.01343\n",
      "Epoch 33/50\n",
      " - 8s - loss: 0.0547 - accuracy: 1.0000 - val_loss: 0.0481 - val_accuracy: 1.0000\n",
      "\n",
      "Epoch 00033: val_loss did not improve from 0.01343\n",
      "Epoch 34/50\n",
      " - 8s - loss: 0.0281 - accuracy: 1.0000 - val_loss: 0.1102 - val_accuracy: 0.9250\n",
      "\n",
      "Epoch 00034: val_loss did not improve from 0.01343\n",
      "Epoch 35/50\n",
      " - 9s - loss: 0.0410 - accuracy: 0.9875 - val_loss: 0.1716 - val_accuracy: 0.9500\n",
      "\n",
      "Epoch 00035: val_loss did not improve from 0.01343\n",
      "Epoch 36/50\n",
      " - 8s - loss: 0.0295 - accuracy: 0.9875 - val_loss: 0.0615 - val_accuracy: 1.0000\n",
      "\n",
      "Epoch 00036: val_loss did not improve from 0.01343\n",
      "Epoch 37/50\n",
      " - 9s - loss: 0.0468 - accuracy: 1.0000 - val_loss: 0.1768 - val_accuracy: 0.9500\n",
      "\n",
      "Epoch 00037: val_loss did not improve from 0.01343\n",
      "Epoch 38/50\n",
      " - 8s - loss: 0.0188 - accuracy: 1.0000 - val_loss: 0.0839 - val_accuracy: 1.0000\n",
      "\n",
      "Epoch 00038: val_loss did not improve from 0.01343\n",
      "Epoch 39/50\n",
      " - 8s - loss: 0.0471 - accuracy: 0.9875 - val_loss: 0.0644 - val_accuracy: 1.0000\n",
      "\n",
      "Epoch 00039: val_loss did not improve from 0.01343\n",
      "Epoch 40/50\n",
      " - 8s - loss: 0.0444 - accuracy: 0.9875 - val_loss: 0.0656 - val_accuracy: 1.0000\n",
      "\n",
      "Epoch 00040: val_loss did not improve from 0.01343\n",
      "Epoch 41/50\n",
      " - 9s - loss: 0.0369 - accuracy: 1.0000 - val_loss: 0.0665 - val_accuracy: 0.9750\n",
      "\n",
      "Epoch 00041: val_loss did not improve from 0.01343\n",
      "Epoch 42/50\n",
      " - 8s - loss: 0.0591 - accuracy: 0.9875 - val_loss: 0.1007 - val_accuracy: 0.9500\n",
      "\n",
      "Epoch 00042: val_loss did not improve from 0.01343\n",
      "Epoch 43/50\n",
      " - 8s - loss: 0.0152 - accuracy: 1.0000 - val_loss: 0.0732 - val_accuracy: 0.9250\n",
      "\n",
      "Epoch 00043: val_loss did not improve from 0.01343\n",
      "Epoch 44/50\n",
      " - 9s - loss: 0.0203 - accuracy: 1.0000 - val_loss: 0.0917 - val_accuracy: 0.9750\n",
      "\n",
      "Epoch 00044: val_loss did not improve from 0.01343\n",
      "Epoch 45/50\n",
      " - 8s - loss: 0.0840 - accuracy: 0.9625 - val_loss: 0.0779 - val_accuracy: 0.9750\n",
      "\n",
      "Epoch 00045: val_loss did not improve from 0.01343\n",
      "Epoch 46/50\n",
      " - 8s - loss: 0.0453 - accuracy: 1.0000 - val_loss: 0.0461 - val_accuracy: 1.0000\n",
      "\n",
      "Epoch 00046: val_loss did not improve from 0.01343\n",
      "Epoch 47/50\n",
      " - 8s - loss: 0.0185 - accuracy: 1.0000 - val_loss: 0.0762 - val_accuracy: 0.9750\n",
      "\n",
      "Epoch 00047: val_loss did not improve from 0.01343\n",
      "Epoch 48/50\n",
      " - 9s - loss: 0.0099 - accuracy: 1.0000 - val_loss: 0.0684 - val_accuracy: 1.0000\n",
      "\n",
      "Epoch 00048: val_loss did not improve from 0.01343\n",
      "Epoch 49/50\n",
      " - 9s - loss: 0.0215 - accuracy: 1.0000 - val_loss: 0.1279 - val_accuracy: 0.9750\n",
      "\n",
      "Epoch 00049: val_loss did not improve from 0.01343\n",
      "Epoch 50/50\n",
      " - 9s - loss: 0.0121 - accuracy: 1.0000 - val_loss: 0.1379 - val_accuracy: 0.9750\n",
      "\n",
      "Epoch 00050: val_loss did not improve from 0.01343\n"
     ]
    }
   ],
   "source": [
    "H=new_model.fit_generator(train_batches, steps_per_epoch=4,\n",
    "                   validation_data=valid_batches, validation_steps=2, epochs=N, verbose=2,callbacks=callbacks)"
   ]
  },
  {
   "cell_type": "code",
   "execution_count": 10,
   "metadata": {},
   "outputs": [
    {
     "data": {
      "image/png": "[encoded data removed]",
      "text/plain": [
       "<Figure size 432x288 with 1 Axes>"
      ]
     },
     "metadata": {},
     "output_type": "display_data"
    }
   ],
   "source": [
    "plt.style.use(\"ggplot\")\n",
    "plt.figure()\n",
    "plt.plot(np.arange(0, N), H.history[\"loss\"], label=\"train_loss\")\n",
    "plt.plot(np.arange(0, N), H.history[\"val_loss\"], label=\"val_loss\")\n",
    "plt.title(\"Training Loss on Dataset\")\n",
    "plt.xlabel(\"Epoch #\")\n",
    "plt.ylabel(\"Loss/Accuracy\")\n",
    "plt.legend(loc=\"upper right\")\n",
    "plt.savefig(\"loss.png\")"
   ]
  },
  {
   "cell_type": "code",
   "execution_count": 11,
   "metadata": {},
   "outputs": [
    {
     "data": {
      "image/png": "[encoded data removed]",
      "text/plain": [
       "<Figure size 432x288 with 1 Axes>"
      ]
     },
     "metadata": {},
     "output_type": "display_data"
    }
   ],
   "source": [
    "plt.style.use(\"ggplot\")\n",
    "plt.figure()\n",
    "plt.plot(np.arange(0, N), H.history[\"accuracy\"], label=\"train_acc\")\n",
    "plt.plot(np.arange(0, N), H.history[\"val_accuracy\"], label=\"val_acc\")\n",
    "plt.title(\"Accuracy on Dataset\")\n",
    "plt.xlabel(\"Epoch #\")\n",
    "plt.ylabel(\"Loss/Accuracy\")\n",
    "plt.legend(loc=\"lower right\")\n",
    "plt.savefig(\"accu.png\")"
   ]
  },
  {
   "cell_type": "markdown",
   "metadata": {},
   "source": [
    "### 4. Reload the model and Evaluate a stored model"
   ]
  },
  {
   "cell_type": "code",
   "execution_count": 13,
   "metadata": {},
   "outputs": [],
   "source": [
    "def load_dataset(path):\n",
    "    data = load_files(path)\n",
    "    paths = np.array(data['filenames'])\n",
    "    targets = np_utils.to_categorical(np.array(data['target']))\n",
    "    return paths, targets"
   ]
  },
  {
   "cell_type": "code",
   "execution_count": 14,
   "metadata": {},
   "outputs": [],
   "source": [
    "from sklearn.datasets import load_files\n",
    "from keras.utils import np_utils\n",
    "import numpy as np\n",
    "from keras.models import Sequential, load_model\n",
    "\n",
    "test_files, test_targets = load_dataset('data/test')"
   ]
  },
  {
   "cell_type": "code",
   "execution_count": 15,
   "metadata": {},
   "outputs": [
    {
     "name": "stderr",
     "output_type": "stream",
     "text": [
      "100%|██████████| 118/118 [00:01<00:00, 66.47it/s]\n"
     ]
    }
   ],
   "source": [
    "from keras.preprocessing import image  \n",
    "from keras.applications.vgg16 import preprocess_input\n",
    "from tqdm import tqdm\n",
    "\n",
    "def path_to_tensor(img_path):\n",
    "    # loads RGB image as PIL.Image.Image type\n",
    "    img = image.load_img(img_path, target_size=(1280,960,3))\n",
    "    # convert PIL.Image.Image type to 3D tensor with shape (1280,960, 1280,960, 3)\n",
    "    x = image.img_to_array(img)\n",
    "    # convert 3D tensor to 4D tensor with shape (1, 1280,960, 1280,960, 3) and return 4D tensor\n",
    "    return np.expand_dims(x, axis=0)\n",
    "\n",
    "def paths_to_tensor(img_paths):\n",
    "    list_of_tensors = [path_to_tensor(img_path) for img_path in tqdm(img_paths)]\n",
    "    return np.vstack(list_of_tensors)\n",
    "\n",
    "test_tensors = preprocess_input(paths_to_tensor(test_files))"
   ]
  },
  {
   "cell_type": "code",
   "execution_count": 29,
   "metadata": {},
   "outputs": [],
   "source": [
    "new_model = load_model('./my_best_model.hdf5')\n",
    "# new_model = load_model('./result/result_721/my_best_model.hdf5')\n",
    "\n",
    "# Check its architecture\n",
    "# new_model.summary()"
   ]
  },
  {
   "cell_type": "code",
   "execution_count": 30,
   "metadata": {},
   "outputs": [],
   "source": [
    "# Evaluate the restored model\n",
    "#loss, acc = new_model.evaluate(test_tensors, test_targets, verbose=2, batch_size=10)\n",
    "#print('Restored model, accuracy: {:5.2f}%'.format(100 * acc))"
   ]
  },
  {
   "cell_type": "code",
   "execution_count": 31,
   "metadata": {},
   "outputs": [
    {
     "name": "stdout",
     "output_type": "stream",
     "text": [
      "118/118 [==============================] - 9s 74ms/step\n",
      "\n",
      "Testing loss: 0.1329\n",
      "Testing accuracy: 0.9661\n"
     ]
    }
   ],
   "source": [
    "print('\\nTesting loss: {:.4f}\\nTesting accuracy: {:.4f}'.format(*new_model.evaluate(test_tensors, test_targets, batch_size=5)))"
   ]
  },
  {
   "cell_type": "markdown",
   "metadata": {},
   "source": [
    "#### Confusion Matrix"
   ]
  },
  {
   "cell_type": "code",
   "execution_count": 32,
   "metadata": {},
   "outputs": [],
   "source": [
    "from keras.preprocessing import image  \n",
    "from keras.applications.vgg16 import preprocess_input\n",
    "from tqdm import tqdm\n",
    "from sklearn.datasets import load_files\n",
    "from keras.utils import np_utils\n",
    "import numpy as np\n",
    "from pathlib import Path\n",
    "import cv2\n",
    "from keras.models import Sequential, load_model\n",
    "import shutil\n",
    "import matplotlib.pyplot as plt \n",
    "import seaborn as sns"
   ]
  },
  {
   "cell_type": "code",
   "execution_count": 33,
   "metadata": {},
   "outputs": [],
   "source": [
    "def path_to_tensor(img_path):\n",
    "    # loads RGB image as PIL.Image.Image type\n",
    "    img = image.load_img(img_path, target_size=(1280,960,3))\n",
    "    # convert PIL.Image.Image type to 3D tensor with shape (1280,960, 1280,960, 3)\n",
    "    x = image.img_to_array(img)\n",
    "    # convert 3D tensor to 4D tensor with shape (1, 1280,960, 1280,960, 3) and return 4D tensor\n",
    "    return np.expand_dims(x, axis=0)"
   ]
  },
  {
   "cell_type": "code",
   "execution_count": 41,
   "metadata": {},
   "outputs": [],
   "source": [
    "test_dir = 'data/test'\n",
    "tp=0\n",
    "tn=0\n",
    "fp=0\n",
    "fn=0\n",
    "t_path = Path(test_dir)\n",
    "new_model = load_model('my_best_model.hdf5')\n",
    "classlist = [str(p.absolute()) for p in list(t_path.glob('*'))]\n",
    "# print(os.path.basename(folderpath))\n"
   ]
  },
  {
   "cell_type": "code",
   "execution_count": 42,
   "metadata": {},
   "outputs": [],
   "source": [
    "for i,clas in enumerate(classlist):\n",
    "    testlist = os.listdir(clas)\n",
    "#     print(testlist)\n",
    "#     print(i)\n",
    "    for ea in testlist:\n",
    "        \n",
    "        img_name = path_to_tensor(clas+'/'+ea)\n",
    "        name_str = os.path.basename(str(ea))\n",
    "    #     im = cv2.imread(img)\n",
    "    #     x = image.img_to_array(im)\n",
    "    #     x = np.expand_dims(im, axis=0)\n",
    "        result_pre = new_model.predict(img_name)\n",
    "    #     print(result_pre.size)\n",
    "#         print(result_pre)\n",
    "    #     if result_pre[0][1]>0.75:\n",
    "        if result_pre[0][1]>result_pre[0][0] and i == 0:\n",
    "            tp+=1\n",
    "        if result_pre[0][1]<result_pre[0][0] and i == 0:\n",
    "            fn+=1\n",
    "        if result_pre[0][1]>result_pre[0][0] and i == 1:\n",
    "            fp+=1\n",
    "        if result_pre[0][1]<result_pre[0][0] and i == 1:\n",
    "            tn+=1"
   ]
  },
  {
   "cell_type": "code",
   "execution_count": 43,
   "metadata": {},
   "outputs": [
    {
     "name": "stdout",
     "output_type": "stream",
     "text": [
      "[[52, 7], [10, 49]]\n"
     ]
    }
   ],
   "source": [
    "cm = [[tp,   fn],\n",
    "       [  fp,  tn]]\n",
    "print(cm)"
   ]
  },
  {
   "cell_type": "code",
   "execution_count": 44,
   "metadata": {},
   "outputs": [
    {
     "data": {
      "image/png": "[encoded data removed]",
      "text/plain": [
       "<Figure size 432x288 with 2 Axes>"
      ]
     },
     "metadata": {
      "needs_background": "light"
     },
     "output_type": "display_data"
    }
   ],
   "source": [
    "%matplotlib inline \n",
    "# above is necessary to visualize the graph in jupyter notebook\n",
    "# Plot confusion matrix in a beautiful manner\n",
    "\n",
    "fig = plt.figure()\n",
    "ax= plt.subplot()\n",
    "sns.heatmap(cm, annot=True, ax = ax, fmt = 'g'); #annot=True to annotate cells\n",
    "# labels, title and ticks\n",
    "ax.set_xlabel('Predicted', fontsize=20)\n",
    "ax.xaxis.set_label_position('top') \n",
    "ax.xaxis.set_ticklabels(['schlieren', 'not'], fontsize = 15)\n",
    "# ax.xaxis.tick_top()\n",
    "\n",
    "ax.set_ylabel('True', fontsize=20)\n",
    "ax.yaxis.set_ticklabels(['schlieren', 'not'], fontsize = 15)\n",
    "\n",
    "plt.show()\n",
    "fig.savefig('matrix.png')"
   ]
  },
  {
   "cell_type": "markdown",
   "metadata": {},
   "source": [
    "### 5. Predict individual image and put them into separate folder"
   ]
  },
  {
   "cell_type": "code",
   "execution_count": 45,
   "metadata": {},
   "outputs": [],
   "source": [
    "from keras.preprocessing import image  \n",
    "from keras.applications.vgg16 import preprocess_input\n",
    "from tqdm import tqdm\n",
    "from sklearn.datasets import load_files\n",
    "from keras.utils import np_utils\n",
    "import numpy as np\n",
    "from pathlib import Path\n",
    "import cv2\n",
    "from keras.models import Sequential, load_model\n",
    "import shutil"
   ]
  },
  {
   "cell_type": "code",
   "execution_count": 46,
   "metadata": {},
   "outputs": [],
   "source": [
    "def path_to_tensor(img_path):\n",
    "    # loads RGB image as PIL.Image.Image type\n",
    "    img = image.load_img(img_path, target_size=(1280,960,3))\n",
    "    # convert PIL.Image.Image type to 3D tensor with shape (1280,960, 1280,960, 3)\n",
    "    x = image.img_to_array(img)\n",
    "    # convert 3D tensor to 4D tensor with shape (1, 1280,960, 1280,960, 3) and return 4D tensor\n",
    "    return np.expand_dims(x, axis=0)"
   ]
  },
  {
   "cell_type": "code",
   "execution_count": 47,
   "metadata": {},
   "outputs": [
    {
     "name": "stdout",
     "output_type": "stream",
     "text": [
      "Model: \"model_1\"\n",
      "_________________________________________________________________\n",
      "Layer (type)                 Output Shape              Param #   \n",
      "=================================================================\n",
      "input_1 (InputLayer)         (None, 1280, 960, 3)      0         \n",
      "_________________________________________________________________\n",
      "block1_conv1 (Conv2D)        (None, 1280, 960, 64)     1792      \n",
      "_________________________________________________________________\n",
      "block1_conv2 (Conv2D)        (None, 1280, 960, 64)     36928     \n",
      "_________________________________________________________________\n",
      "block1_pool (MaxPooling2D)   (None, 640, 480, 64)      0         \n",
      "_________________________________________________________________\n",
      "block2_conv1 (Conv2D)        (None, 640, 480, 128)     73856     \n",
      "_________________________________________________________________\n",
      "block2_conv2 (Conv2D)        (None, 640, 480, 128)     147584    \n",
      "_________________________________________________________________\n",
      "block2_pool (MaxPooling2D)   (None, 320, 240, 128)     0         \n",
      "_________________________________________________________________\n",
      "block3_conv1 (Conv2D)        (None, 320, 240, 256)     295168    \n",
      "_________________________________________________________________\n",
      "block3_conv2 (Conv2D)        (None, 320, 240, 256)     590080    \n",
      "_________________________________________________________________\n",
      "block3_conv3 (Conv2D)        (None, 320, 240, 256)     590080    \n",
      "_________________________________________________________________\n",
      "block3_pool (MaxPooling2D)   (None, 160, 120, 256)     0         \n",
      "_________________________________________________________________\n",
      "block4_conv1 (Conv2D)        (None, 160, 120, 512)     1180160   \n",
      "_________________________________________________________________\n",
      "block4_conv2 (Conv2D)        (None, 160, 120, 512)     2359808   \n",
      "_________________________________________________________________\n",
      "block4_conv3 (Conv2D)        (None, 160, 120, 512)     2359808   \n",
      "_________________________________________________________________\n",
      "block4_pool (MaxPooling2D)   (None, 80, 60, 512)       0         \n",
      "_________________________________________________________________\n",
      "block5_conv1 (Conv2D)        (None, 80, 60, 512)       2359808   \n",
      "_________________________________________________________________\n",
      "block5_conv2 (Conv2D)        (None, 80, 60, 512)       2359808   \n",
      "_________________________________________________________________\n",
      "block5_conv3 (Conv2D)        (None, 80, 60, 512)       2359808   \n",
      "_________________________________________________________________\n",
      "block5_pool (MaxPooling2D)   (None, 40, 30, 512)       0         \n",
      "_________________________________________________________________\n",
      "flatten_1 (Flatten)          (None, 614400)            0         \n",
      "_________________________________________________________________\n",
      "FC_2 (Dense)                 (None, 64)                39321664  \n",
      "_________________________________________________________________\n",
      "batch_normalization_1 (Batch (None, 64)                256       \n",
      "_________________________________________________________________\n",
      "dropout_1 (Dropout)          (None, 64)                0         \n",
      "_________________________________________________________________\n",
      "softmax (Dense)              (None, 2)                 130       \n",
      "=================================================================\n",
      "Total params: 54,036,738\n",
      "Trainable params: 39,321,922\n",
      "Non-trainable params: 14,714,816\n",
      "_________________________________________________________________\n"
     ]
    }
   ],
   "source": [
    "#new_model = load_model('./my_best_model.hdf5')\n",
    "new_model = load_model('/home/hhuan006/Desktop/schlieren project/result/result_721/my_best_model.hdf5')\n",
    "\n",
    "# Check its architecture\n",
    "new_model.summary()"
   ]
  },
  {
   "cell_type": "code",
   "execution_count": null,
   "metadata": {},
   "outputs": [],
   "source": [
    "# dir_predict = '/home/hhuan006/Bermuda_FoSi2_CTD_camera_April_2019/OFPCTD5/'\n",
    "dir_predict = '/home/hhuan006/Bermuda_FoSi2_CTD_camera_April_2019/OFPCTD3/'\n",
    "dir_save_pred = '/home/hhuan006/sch_pred_results/cast-3/'\n",
    "if not os.path.exists(dir_save_pred):\n",
    "    os.makedirs(dir_save_pred)\n",
    "    \n",
    "folderpath = Path(dir_predict)\n",
    "dirlist = [str(p.absolute()) for p in list(folderpath.glob('*'))]\n",
    "# print(os.path.basename(folderpath))\n",
    "for each in dirlist:\n",
    "    img_name = path_to_tensor(each)\n",
    "    name_str = os.path.basename(str(each))\n",
    "#     im = cv2.imread(img)\n",
    "#     x = image.img_to_array(im)\n",
    "#     x = np.expand_dims(im, axis=0)\n",
    "    result_pre = new_model.predict(img_name)\n",
    "#     print(result_pre.size)\n",
    "    print(result_pre)\n",
    "#     if result_pre[0][1]>0.75:\n",
    "    if result_pre[0][1]>result_pre[0][0]:\n",
    "        shutil.copy2(str(each), dir_save_pred+name_str[0:-5]+'_'+str(result_pre[0][1])+'.bmp') # complete target filename given\n"
   ]
  },
  {
   "cell_type": "code",
   "execution_count": null,
   "metadata": {},
   "outputs": [],
   "source": []
  }
 ],
 "metadata": {
  "kernelspec": {
   "display_name": "Python 3",
   "language": "python",
   "name": "python3"
  },
  "language_info": {
   "codemirror_mode": {
    "name": "ipython",
    "version": 3
   },
   "file_extension": ".py",
   "mimetype": "text/x-python",
   "name": "python",
   "nbconvert_exporter": "python",
   "pygments_lexer": "ipython3",
   "version": "3.7.7"
  }
 },
 "nbformat": 4,
 "nbformat_minor": 4
}
